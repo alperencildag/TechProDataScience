{
 "cells": [
  {
   "cell_type": "markdown",
   "metadata": {},
   "source": [
    "##### regular expression (Düzenli ifadeler ) kullanıcıdan girilen inputun istenen kurallara uyup uymadığını kontrol etmeye yarar"
   ]
  },
  {
   "cell_type": "code",
   "execution_count": 2,
   "metadata": {},
   "outputs": [
    {
     "name": "stdout",
     "output_type": "stream",
     "text": [
      "['A',\n",
      " 'ASCII',\n",
      " 'DEBUG',\n",
      " 'DOTALL',\n",
      " 'I',\n",
      " 'IGNORECASE',\n",
      " 'L',\n",
      " 'LOCALE',\n",
      " 'M',\n",
      " 'MULTILINE',\n",
      " 'Match',\n",
      " 'NOFLAG',\n",
      " 'Pattern',\n",
      " 'RegexFlag',\n",
      " 'S',\n",
      " 'Scanner',\n",
      " 'T',\n",
      " 'TEMPLATE',\n",
      " 'U',\n",
      " 'UNICODE',\n",
      " 'VERBOSE',\n",
      " 'X',\n",
      " '_MAXCACHE',\n",
      " '__all__',\n",
      " '__builtins__',\n",
      " '__cached__',\n",
      " '__doc__',\n",
      " '__file__',\n",
      " '__loader__',\n",
      " '__name__',\n",
      " '__package__',\n",
      " '__path__',\n",
      " '__spec__',\n",
      " '__version__',\n",
      " '_cache',\n",
      " '_casefix',\n",
      " '_compile',\n",
      " '_compile_repl',\n",
      " '_compiler',\n",
      " '_constants',\n",
      " '_expand',\n",
      " '_parser',\n",
      " '_pickle',\n",
      " '_special_chars_map',\n",
      " '_subx',\n",
      " 'compile',\n",
      " 'copyreg',\n",
      " 'enum',\n",
      " 'error',\n",
      " 'escape',\n",
      " 'findall',\n",
      " 'finditer',\n",
      " 'fullmatch',\n",
      " 'functools',\n",
      " 'match',\n",
      " 'purge',\n",
      " 'search',\n",
      " 'split',\n",
      " 'sub',\n",
      " 'subn',\n",
      " 'template']\n"
     ]
    }
   ],
   "source": [
    "import re\n",
    "from pprint import pprint\n",
    "\n",
    "result = dir(re)\n",
    "\n",
    "pprint(result)"
   ]
  },
  {
   "cell_type": "code",
   "execution_count": 6,
   "metadata": {},
   "outputs": [
    {
     "name": "stdout",
     "output_type": "stream",
     "text": [
      "2\n"
     ]
    }
   ],
   "source": [
    "import re\n",
    "\n",
    "str1 = \"Python Kursu: Python Programlama Rehberiniz | 40 saat\"\n",
    "\n",
    "result = re.findall(\"Python\", str1)\n",
    "result = len(result)\n",
    "print(result)"
   ]
  },
  {
   "cell_type": "code",
   "execution_count": 9,
   "metadata": {},
   "outputs": [
    {
     "name": "stdout",
     "output_type": "stream",
     "text": [
      "['Python Kursu: Python Programlama ', 'ehberiniz | 40 saat']\n"
     ]
    }
   ],
   "source": [
    "import re\n",
    "\n",
    "str1 = \"Python Kursu: Python Programlama Rehberiniz | 40 saat\"\n",
    "\n",
    "result = re.split(\" \", str1)\n",
    "result = re.split(\"R\", str1)\n",
    "\n",
    "print(result)"
   ]
  },
  {
   "cell_type": "code",
   "execution_count": 11,
   "metadata": {},
   "outputs": [
    {
     "name": "stdout",
     "output_type": "stream",
     "text": [
      "Python-Kursu:-Python-Programlama-Rehberiniz-|-40-saat\n"
     ]
    }
   ],
   "source": [
    "import re\n",
    "\n",
    "str1 = \"Python Kursu: Python Programlama Rehberiniz | 40 saat\"\n",
    "\n",
    "result = re.sub(\" \", \"-\", str1)\n",
    "result = re.sub(\"\\s\", \"-\", str1) # \\s regex de boşluk anlamına geliyor\n",
    "\n",
    "print(result)"
   ]
  },
  {
   "cell_type": "code",
   "execution_count": 20,
   "metadata": {},
   "outputs": [
    {
     "name": "stdout",
     "output_type": "stream",
     "text": [
      "Python Kursu: Python Programlama Rehberiniz | 40 saat\n"
     ]
    }
   ],
   "source": [
    "import re\n",
    "\n",
    "str1 = \"Python Kursu: Python Programlama Rehberiniz | 40 saat\"\n",
    "\n",
    "result = re.search(\"Python\", str1) # bulduğu ilk kelimenin metin içindeki indis aralığını verir\n",
    "\n",
    "result = result.span() # match objesi üstünden bakıyoruz\n",
    "\n",
    "result = re.search(\"Python\", str1) # bulduğu ilk kelimenin metin içindeki indis aralığını verir\n",
    "\n",
    "result = result.start()\n",
    "\n",
    "result = re.search(\"Python\", str1) # bulduğu ilk kelimenin metin içindeki indis aralığını verir\n",
    "\n",
    "result = result.end()\n",
    "\n",
    "result = re.search(\"Python\", str1) # bulduğu ilk kelimenin metin içindeki indis aralığını verir\n",
    "\n",
    "result = result.group()\n",
    "\n",
    "result = re.search(\"Python\", str1) # bulduğu ilk kelimenin metin içindeki indis aralığını verir\n",
    "\n",
    "result = result.string\n",
    "\n",
    "print(result)"
   ]
  },
  {
   "cell_type": "code",
   "execution_count": 30,
   "metadata": {},
   "outputs": [
    {
     "name": "stdout",
     "output_type": "stream",
     "text": [
      "['P', 'y', 't', 'h', 'o', 'n', ' ', 'K', 'u', 'r', 's', 'u', ':', ' ', 'P', 'y', 't', 'h', 'o', 'n', ' ', 'P', 'r', 'o', 'g', 'r', 'a', 'm', 'l', 'a', 'm', 'a', ' ', 'R', 'e', 'h', 'b', 'e', 'r', 'i', 'n', 'i', 'z', ' ', '|', ' ', ' ', 's', 'a', 'a', 't']\n"
     ]
    }
   ],
   "source": [
    "import re\n",
    "\n",
    "str1 = \"Python Kursu: Python Programlama Rehberiniz | 40 saat\"\n",
    "\n",
    "result = re.findall(\"[abc]\", str1)\n",
    "result = re.findall(\"[sat]\", str1)\n",
    "result = re.findall(\"[a-e]\", str1)\n",
    "result = re.findall(\"[a-z]\", str1)\n",
    "result = re.findall(\"[0-5]\", str1)\n",
    "result = re.findall(\"[0-395]\", str1)\n",
    "result = re.findall(\"[^abc]\", str1)\n",
    "result = re.findall(\"[^0-9]\", str1)\n",
    "\n",
    "print(result)"
   ]
  },
  {
   "cell_type": "code",
   "execution_count": 41,
   "metadata": {},
   "outputs": [
    {
     "name": "stdout",
     "output_type": "stream",
     "text": [
      "['saat']\n"
     ]
    }
   ],
   "source": [
    "import re\n",
    "\n",
    "str1 = \"Python Kursu: Python Programlama Rehberiniz | 40 saat\"\n",
    "\n",
    "result = re.findall(\"...\", str1)\n",
    "result = re.findall(\"Py..on\", str1)\n",
    "result = re.findall(\"^a\", str1) # a ile başlıyor mu\n",
    "result = re.findall(\"^P\", str1) # P ile başlıyor mu\n",
    "result = re.findall(\"a$\", str1) # a ile bitiyor mu\n",
    "result = re.findall(\"t$\", str1) # t ile bitiyor mu\n",
    "result = re.findall(\"saat$\", str1)\n",
    "result = re.findall(\"saatt$\", str1)\n",
    "result = re.findall(\"sa*t$\", str1) # * aynı karakterden 1 ve ya daha fazla varsa \n",
    "result = re.findall(\"sa+t$\", str1) # + aynı karakterden sadece 1 adet varsa \n",
    "\n",
    "print(result)"
   ]
  },
  {
   "cell_type": "code",
   "execution_count": 45,
   "metadata": {},
   "outputs": [
    {
     "name": "stdout",
     "output_type": "stream",
     "text": [
      "[]\n"
     ]
    }
   ],
   "source": [
    "import re\n",
    "\n",
    "str1 = \"Python Kursu: Python Programlama Rehberiniz | 40 saat\"\n",
    "\n",
    "result = re.findall(\"a|b\", str1)\n",
    "result = re.findall(\"(a|b|c)xz\", str1) # karakterlerin sonuna xz gelmelidir\n",
    "\n",
    "\n",
    "print(result)"
   ]
  },
  {
   "cell_type": "code",
   "execution_count": null,
   "metadata": {},
   "outputs": [],
   "source": [
    "import re\n",
    "\n",
    "str1 = \"Python Kursu: Python Programlama Rehberiniz | 40 saat\"\n",
    "\n",
    "result = re.findall(\"a{2}\", str1) # a dan 2 adet olanı getir\n",
    "result = re.findall(\"[0-9]{2}\", str1) # a dan 2 adet olanı getir\n",
    "\n",
    "\n",
    "print(result)"
   ]
  },
  {
   "cell_type": "code",
   "execution_count": 46,
   "metadata": {},
   "outputs": [
    {
     "name": "stdout",
     "output_type": "stream",
     "text": [
      "['25', '30']\n"
     ]
    }
   ],
   "source": [
    "import re\n",
    "\n",
    "text = \"Bugün hava 25 derece ve yarın 30 derece olacak.\"\n",
    "\n",
    "pattern = r'\\d+'\n",
    "matches = re.findall(pattern, text)\n",
    "\n",
    "print(matches)  # ['25', '30']\n"
   ]
  },
  {
   "cell_type": "markdown",
   "metadata": {},
   "source": [
    "Yukarıdaki örnekte kullanılan düzenli ifade r'\\d+'dir. Bu ifade, metindeki bir veya daha fazla rakamı tespit eder. \\d rakam karakterini temsil eder ve + sembolü, önceki karakterin en az bir kez veya daha fazla tekrarlandığını belirtir.\n",
    "\n",
    "Sonuç olarak, yukarıdaki kod metindeki sayıları (25 ve 30) tespit eder ve bir liste olarak döndürür."
   ]
  },
  {
   "cell_type": "code",
   "execution_count": null,
   "metadata": {},
   "outputs": [],
   "source": [
    "import re\n",
    "\n",
    "text = \"Toplantı 10/08/2023 tarihinde yapılacak. Etkinlik ise 22/09/2023 tarihinde gerçekleşecek.\"\n",
    "\n",
    "pattern = r'\\d{2}/\\d{2}/\\d{4}'\n",
    "matches = re.findall(pattern, text)\n",
    "\n",
    "print(matches)  # ['10/08/2023', '22/09/2023']\n"
   ]
  },
  {
   "cell_type": "markdown",
   "metadata": {},
   "source": [
    "Yukarıdaki örnekteki düzenli ifade r'\\d{2}/\\d{2}/\\d{4}' şu şekilde açıklanabilir:\n",
    "\n",
    "    \\d{2}: İki rakam. Bu tarih içindeki gün ve ay bölümlerini temsil eder.\n",
    "    /: Kesme işareti, tarih bölümlerini ayıran ayracı temsil eder.\n",
    "    \\d{4}: Dört rakam. Bu tarih içindeki yıl bölümünü temsil eder.\n",
    "\n",
    "Bu ifade, metinde GG/AA/YYYY formatına uyan tarihleri tespit eder ve bir liste olarak döndürür. Örnekteki metindeki tarihler 10/08/2023 ve 22/09/2023 olduğu için bu tarihleri bulur."
   ]
  },
  {
   "cell_type": "code",
   "execution_count": 47,
   "metadata": {},
   "outputs": [
    {
     "name": "stdout",
     "output_type": "stream",
     "text": [
      "['123-45-6789']\n"
     ]
    }
   ],
   "source": [
    "import re\n",
    "\n",
    "pattern = r'\\b\\d{3}-\\d{2}-\\d{4}\\b'  # Örnek: 123-45-6789\n",
    "text = \"Bir kişinin SSN numarası 123-45-6789'dur.\"\n",
    "\n",
    "matches = re.findall(pattern, text)\n",
    "print(matches)  # ['123-45-6789']"
   ]
  },
  {
   "cell_type": "markdown",
   "metadata": {},
   "source": [
    "##### Yukarıdaki örnekte, \\b\\d{3}-\\d{2}-\\d{4}\\b düzenli ifadesi, 123-45-6789 gibi 3 haneli, 2 haneli ve 4 haneli sayıları tespit etmek için kullanılır. re.findall() fonksiyonu, metindeki tüm uyan örüntüleri bir liste olarak döndürür.\n",
    "Düzenli ifadelerde sık kullanılan bazı temel özel karakterler:\n",
    "\n",
    "    .: Herhangi bir karakteri temsil eder.\n",
    "    *: Önceki öğenin sıfır veya daha fazla tekrarını temsil eder.\n",
    "    +: Önceki öğenin bir veya daha fazla tekrarını temsil eder.\n",
    "    ?: Önceki öğenin sıfır veya bir kez tekrarını temsil eder.\n",
    "    \\d: Bir rakamı temsil eder.\n",
    "    \\w: Bir harf veya rakamı temsil eder.\n",
    "    []: Karakter kümesini temsil eder. Örneğin, [a-zA-Z] tüm harf karakterlerini temsil eder.\n",
    "    ^: Kalıbın başladığını belirtir.\n",
    "    $: Kalıbın bittiğini belirtir."
   ]
  },
  {
   "cell_type": "code",
   "execution_count": 48,
   "metadata": {},
   "outputs": [
    {
     "name": "stdout",
     "output_type": "stream",
     "text": [
      "['user@example.com']\n"
     ]
    }
   ],
   "source": [
    "import re\n",
    "\n",
    "text = \"İletişim için lütfen benim e-posta adresim olan user@example.com adresine yazın.\"\n",
    "\n",
    "pattern = r'\\b[A-Za-z0-9._%+-]+@[A-Za-z0-9.-]+\\.[A-Z|a-z]{2,7}\\b'\n",
    "matches = re.findall(pattern, text, re.IGNORECASE)\n",
    "\n",
    "print(matches)  # ['user@example.com']\n"
   ]
  },
  {
   "cell_type": "markdown",
   "metadata": {},
   "source": [
    "Yukarıdaki örnekteki düzenli ifade, standart bir e-posta adresinin genel yapısına uyan metinleri tespit eder. re.IGNORECASE bayrağı, büyük/küçük harf duyarsız eşleştirmeyi sağlar.\n",
    "\n",
    "Bu örnekte kullanılan düzenli ifade r'\\b[A-Za-z0-9._%+-]+@[A-Za-z0-9.-]+\\.[A-Z|a-z]{2,7}\\b' şu şekilde açıklanabilir:\n",
    "\n",
    "    \\b: Kelime sınırlayıcı - başlangıç veya bitiş.\n",
    "    [A-Za-z0-9._%+-]+: Kullanıcı adı - harf, rakam veya belirli özel karakterlerin bir veya daha fazla tekrarı.\n",
    "    @: E-posta adresinin ayracı.\n",
    "    [A-Za-z0-9.-]+: Alan adı - harf, rakam veya belirli özel karakterlerin bir veya daha fazla tekrarı.\n",
    "    \\.: Nokta karakteri (örneğin, .com, .org vb.).\n",
    "    [A-Z|a-z]{2,7}: Üst düzey alan adı (TLD) - en az 2, en fazla 7 harf içerir.\n",
    "    \\b: Kelime sınırlayıcı - başlangıç veya bitiş.\n",
    "\n",
    "Bu örnekteki düzenli ifade, metindeki e-posta adreslerini tespit etmek için oldukça yaygın bir kullanımı göstermektedir.\n",
    "\n",
    "    A-Za-z: Büyük ve küçük harf harfleri arasında yer alan herhangi bir harf.\n",
    "    0-9: Rakamlardan herhangi biri.\n",
    "    ._%+-: Bu karakterlerin herhangi biri: nokta (.), alt çizgi (_), yüzde işareti (%), artı (+) veya eksi (-).\n",
    "\n",
    "Bu karakterler [A-Za-z0-9._%+-] ifadesi içinde yer aldığı zaman, metinde bu karakterlerin herhangi biriyle eşleşen bir dizi karakteri ifade eder. + sembolü, bu karakterlerin en az bir kez veya daha fazla tekrarlandığını belirtir. Yani [A-Za-z0-9._%+-]+ ifadesi, metinde bu karakterlerden oluşan bir veya daha fazla uzunlukta bir dizi karakteri eşleştirir.\n",
    "\n",
    "Örneğin, \"user123\" veya \"example.com\" gibi karakter dizileri [A-Za-z0-9._%+-]+ ifadesine uyar, çünkü bu karakterler bu ifade içindeki kurallara uyar.\n",
    "\n",
    "Bu tür karakter sınıfları, düzenli ifadelerin esnekliğini ve metin içinde belirli desenleri bulma yeteneğini artırmada önemlidir."
   ]
  },
  {
   "cell_type": "code",
   "execution_count": null,
   "metadata": {},
   "outputs": [],
   "source": []
  }
 ],
 "metadata": {
  "kernelspec": {
   "display_name": "Python 3",
   "language": "python",
   "name": "python3"
  },
  "language_info": {
   "codemirror_mode": {
    "name": "ipython",
    "version": 3
   },
   "file_extension": ".py",
   "mimetype": "text/x-python",
   "name": "python",
   "nbconvert_exporter": "python",
   "pygments_lexer": "ipython3",
   "version": "3.11.4"
  },
  "orig_nbformat": 4
 },
 "nbformat": 4,
 "nbformat_minor": 2
}
