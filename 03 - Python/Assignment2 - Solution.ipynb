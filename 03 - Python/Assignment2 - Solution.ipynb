{
 "cells": [
  {
   "cell_type": "markdown",
   "id": "bb5fd8fe",
   "metadata": {},
   "source": [
    "1 .Given a string of odd length greater than 5, return a new string made of the middle three characters of a given String:\n",
    "Example:\n",
    "\n",
    "\"Murat\" >>> \"ura\"\n",
    "\"Techpro\" >>> \"chp\" "
   ]
  },
  {
   "cell_type": "code",
   "execution_count": 3,
   "id": "200330a8",
   "metadata": {},
   "outputs": [
    {
     "data": {
      "text/plain": [
       "'chp'"
      ]
     },
     "execution_count": 3,
     "metadata": {},
     "output_type": "execute_result"
    }
   ],
   "source": [
    "### soru 1 çözüm\n",
    "def middle_3(aa):\n",
    "\n",
    "    middle = len(aa) // 2\n",
    "    return aa[middle - 1] + aa[middle] + aa[middle + 1]\n",
    "\n",
    "middle_3(\"techpro\")"
   ]
  },
  {
   "cell_type": "markdown",
   "id": "bac258c8",
   "metadata": {},
   "source": [
    "2. Kullanıcıdan bir sayı alın. Ve geriye doğru saymasını sağlayın. Aralarda \"*\" işareti olacaktır. En sonunda ise \"GO!\" ifadesi.\n",
    "\n",
    "Example:\n",
    "input >> 3\n",
    "output >> '3*2*1*GO!'"
   ]
  },
  {
   "cell_type": "code",
   "execution_count": null,
   "id": "548b905f",
   "metadata": {},
   "outputs": [],
   "source": [
    "### soru 2 çözüm\n",
    "\n",
    "def geri_say(n,yazi):\n",
    "    sonuç = \"\"\n",
    "    for i in range(n, 0, -1):\n",
    "        sonuç += str(i) + \"*\"\n",
    "    sonuç += yazi.upper() + \"!\"\n",
    "    return sonuç\n",
    "geri_say(3,\"go\")"
   ]
  },
  {
   "cell_type": "markdown",
   "id": "d4504fd6",
   "metadata": {},
   "source": [
    "3. Write a Python program to remove all elements from a given list present in another list. Go to the editor\n",
    "Original lists:\n",
    "list1: [1, 2, 3, 4, 5, 6, 7, 8, 9, 10]\n",
    "list2: [2, 4, 6, 8]\n",
    "Remove all elements from 'list1' present in 'list2:\n",
    "[1, 3, 5, 7, 9, 10]"
   ]
  },
  {
   "cell_type": "code",
   "execution_count": 4,
   "id": "8c8e0c14",
   "metadata": {},
   "outputs": [
    {
     "name": "stdout",
     "output_type": "stream",
     "text": [
      "[1, 3, 5, 7, 9, 10]\n"
     ]
    }
   ],
   "source": [
    "### soru 3 çözüm 1\n",
    "list1 = [1, 2, 3, 4, 5, 6, 7, 8, 9, 10]\n",
    "list2 = [2, 4, 6, 8]\n",
    "\n",
    "liste = []\n",
    "for i in list1:\n",
    "    if i not in list2:\n",
    "        liste.append(i)\n",
    "\n",
    "print(liste)"
   ]
  },
  {
   "cell_type": "code",
   "execution_count": 7,
   "id": "d53351d9",
   "metadata": {},
   "outputs": [
    {
     "data": {
      "text/plain": [
       "[1, 3, 5, 7, 9, 10]"
      ]
     },
     "execution_count": 7,
     "metadata": {},
     "output_type": "execute_result"
    }
   ],
   "source": [
    "### soru 3 çözüm 2\n",
    "set1= set(list1)\n",
    "set2 = set(list2)\n",
    "\n",
    "list(set1 - set2)"
   ]
  },
  {
   "cell_type": "markdown",
   "id": "5deef34a",
   "metadata": {},
   "source": [
    "4 - Negatif olmayan iki sayı alınız ve bu iki sayı arasındaki sayılardan tek olanları key, karelerini de value olacak şekilde sözlük haline getiren bir fonksiyon yazınız. (Sayıların kendileri dahil!)\n",
    "\n",
    "Example:\n",
    "keyvalue(12,5)\n",
    "\n",
    "{5: 25, 7: 49, 9: 81, 11: 121}"
   ]
  },
  {
   "cell_type": "code",
   "execution_count": 13,
   "id": "392998d1",
   "metadata": {},
   "outputs": [
    {
     "data": {
      "text/plain": [
       "{5: 25, 7: 49, 9: 81, 11: 121}"
      ]
     },
     "execution_count": 13,
     "metadata": {},
     "output_type": "execute_result"
    }
   ],
   "source": [
    "### soru 4 çözüm\n",
    "\n",
    "def keyvalue(a,b):\n",
    "\n",
    "    if a <= b:\n",
    "        x = range(a, b + 1)\n",
    "    else:\n",
    "        x = range(b, a + 1)\n",
    "\n",
    "    dict1 = {}\n",
    "\n",
    "    for i in x:\n",
    "\n",
    "        if i % 2 == 1:\n",
    "            dict1[i] = i ** 2\n",
    "\n",
    "    return dict1\n",
    "\n",
    "keyvalue(12,5)\n"
   ]
  },
  {
   "cell_type": "markdown",
   "id": "903f7ae5",
   "metadata": {},
   "source": [
    "5 - Ardışık sıfırlar ve birler:\n",
    "\n",
    "Bu sorunun amacı, yalnızca sıfırlar ve birlerden oluşan bir ikili diziyi analiz etmektir. Kodunuz, dizedeki en büyük ardışık sıfır ve birlerin sayısını bulmalıdır. Örneğin, dize verildiğinde:\n",
    "\n",
    "\"1001101000110\" Ardışık sıfırların en büyük sayısı 3'tür.\n",
    "\n",
    "\"1001101000110\" Ardışık birlerin en büyük sayısı 2'dir.\n",
    "\n",
    "Sıfırlar ve birler dizisi olan tek bir parametre alan ardışık_sıfırlar adlı bir fonksiyon tanımlayın."
   ]
  },
  {
   "cell_type": "code",
   "execution_count": 4,
   "id": "83823ad3",
   "metadata": {},
   "outputs": [
    {
     "data": {
      "text/plain": [
       "3"
      ]
     },
     "execution_count": 4,
     "metadata": {},
     "output_type": "execute_result"
    }
   ],
   "source": [
    "## soru 5 çözüm\n",
    "\n",
    "def ardışık(sayı):\n",
    "\n",
    "    print(f\"ardışık sıfırların en büyüğünün uzunluğu : {len(max(sayı.split('1'), key = len))}\")\n",
    "    print(f\"ardışık birlerin en büyüğünün uzunluğu : {len(max(sayı.split('0'), key = len))}\")\n",
    "\n",
    "ardışık(\"1001101000110\")"
   ]
  },
  {
   "cell_type": "markdown",
   "id": "26614e94",
   "metadata": {},
   "source": [
    "6- \n",
    "Parametre olarak negatif olmayan bir sayı alan \"format_number\" adında bir fonksiyon yazın.\n",
    "\n",
    "Fonksiyonunuz sayıyı bir stringe dönüştürmeli ve binlik ayırıcı olarak virgül eklemelidir.\n",
    "\n",
    "Örneğin, format_number(1000000) Output: \"1,000,000\" çıktısını vermelidir."
   ]
  },
  {
   "cell_type": "code",
   "execution_count": 5,
   "id": "d4efed96",
   "metadata": {},
   "outputs": [
    {
     "data": {
      "text/plain": [
       "'50,000,550,000'"
      ]
     },
     "execution_count": 5,
     "metadata": {},
     "output_type": "execute_result"
    }
   ],
   "source": [
    "### soru 6 çözüm\n",
    "\n",
    "def format_number(sayı):\n",
    "\n",
    "    a = str(sayı)\n",
    "    liste = []\n",
    "\n",
    "    while a.isdigit():\n",
    "\n",
    "        liste.append(a[-3:])\n",
    "        a = a[:-3]\n",
    "    \n",
    "    return \",\".join(reversed(liste))\n",
    "\n",
    "format_number(1000000)\n",
    "        "
   ]
  },
  {
   "cell_type": "markdown",
   "id": "52dc60b7",
   "metadata": {},
   "source": [
    "7-\n",
    "Kullanıcıdan alınan bir text dizisinin tüm noktalama işaretlerini temizleyen bir fonksiyon yazınız.\n",
    "Example:\n",
    "cleaning(\"nas,ıls..ın\") >>> \"nasılsın\""
   ]
  },
  {
   "cell_type": "code",
   "execution_count": 8,
   "id": "00a9c818",
   "metadata": {},
   "outputs": [
    {
     "data": {
      "text/plain": [
       "'nasılsın'"
      ]
     },
     "execution_count": 8,
     "metadata": {},
     "output_type": "execute_result"
    }
   ],
   "source": [
    "### soru 7 çözüm\n",
    "\n",
    "import string\n",
    "\n",
    "punc = string.punctuation\n",
    "\n",
    "def temizle(str):\n",
    "    \n",
    "    boş_str = \"\"\n",
    "    for i in str:\n",
    "        if i not in punc:\n",
    "            boş_str += i\n",
    "\n",
    "    return boş_str\n",
    "\n",
    "temizle(\"nas,ıls..ın\")"
   ]
  },
  {
   "cell_type": "markdown",
   "id": "d7d5f9a8",
   "metadata": {},
   "source": [
    "8-\n",
    "Kullanıcıdan bir sayı girmesini isteyin ve girilen sayıya göre papatya falı döndüren algoritma yazın. Son çıktının tüm karakterlerinin upper olmasına dikkat edin.\n",
    "\n",
    "example:\n",
    "input >> 5\n",
    "output >> ['Loves Me', 'Loves Me Not', 'Loves Me', 'Loves Me Not', 'LOVES ME']"
   ]
  },
  {
   "cell_type": "code",
   "execution_count": 11,
   "id": "1675c738",
   "metadata": {},
   "outputs": [
    {
     "data": {
      "text/plain": [
       "'Loves me, LOVES ME NOT'"
      ]
     },
     "execution_count": 11,
     "metadata": {},
     "output_type": "execute_result"
    }
   ],
   "source": [
    "### soru 8 çözüm\n",
    "\n",
    "def wonder(x):\n",
    "    result = \"Loves me, \"\n",
    "    for i in range(0, ((x//2) - 1)):\n",
    "        result += \"loves me not, loves me, \"\n",
    "    if x == 0:\n",
    "        return \"\"\n",
    "    elif x == 1:\n",
    "        return \"LOVES ME\"\n",
    "    elif x % 2:\n",
    "        result += \"loves me not, LOVES ME\"\n",
    "    else:\n",
    "        result += \"LOVES ME NOT\"\n",
    "    return result\n",
    "wonder(2)"
   ]
  },
  {
   "cell_type": "markdown",
   "id": "573a4d18",
   "metadata": {},
   "source": [
    "9 - Girilen bir sayının basanaklarını toplayan ve her seferinde oluşan yeni sayıya aynı işlemi yapan ve sonuç olarak tek basamaklı sayıya ulaşana kadar bu işlemi yapan ve işlemi kaç kere yaptığını döndüren bir fonksiyon yazın. \n",
    "\n",
    "Example\n",
    "\n",
    "input >> 142536\n",
    "process\n",
    "1 -  1+4+2+5+3+6 = 21\n",
    "2 -  2+1 = 3\n",
    "\n",
    "iki kere de işlem tamamlandı"
   ]
  },
  {
   "cell_type": "code",
   "execution_count": 15,
   "id": "3dd36d82",
   "metadata": {},
   "outputs": [
    {
     "data": {
      "text/plain": [
       "(3, 2)"
      ]
     },
     "execution_count": 15,
     "metadata": {},
     "output_type": "execute_result"
    }
   ],
   "source": [
    "### soru 9 çözüm\n",
    "\n",
    "def tek_basamağa_düşüş(sayı):\n",
    "\n",
    "    x = str(sayı)\n",
    "    len_sayı = len(x)\n",
    "    sayaç = 0\n",
    "\n",
    "    while len_sayı != 1:\n",
    "\n",
    "        yeni_sayı = 0\n",
    "\n",
    "        for i in x:\n",
    "            yeni_sayı += int(i)\n",
    "\n",
    "        x = str(yeni_sayı)\n",
    "        len_sayı = len(x)\n",
    "        sayaç += 1\n",
    "\n",
    "    return sayaç"
   ]
  },
  {
   "cell_type": "markdown",
   "id": "f75b8f0f",
   "metadata": {},
   "source": [
    "10 - Write a function that sorts the odd numbers in ascending order that leaves the even numbers in their original positions in a given string of numbers.\n",
    "\n",
    "Example:\n",
    "\n",
    "[7, 1] => [1, 7]\n",
    "\n",
    "[5, 8, 6, 3, 4] => [3, 8, 6, 5, 4]\n",
    "\n",
    "[9, 8, 7, 6, 5, 4, 3, 2, 1, 0] => [1, 8, 3, 6, 5, 4, 7, 2, 9, 0]"
   ]
  },
  {
   "cell_type": "code",
   "execution_count": 16,
   "id": "9d37421c",
   "metadata": {},
   "outputs": [
    {
     "data": {
      "text/plain": [
       "[6, 3, 4, 5, 8, 7]"
      ]
     },
     "execution_count": 16,
     "metadata": {},
     "output_type": "execute_result"
    }
   ],
   "source": [
    "### soru 10 çözüm\n",
    "\n",
    "def asc(liste):\n",
    "\n",
    "    sorted_odd = sorted([i for i in liste if i % 2 == 1])\n",
    "\n",
    "    sonuç = []\n",
    "\n",
    "    index = 0\n",
    "    for i in liste:\n",
    "\n",
    "        if i % 2 == 1:\n",
    "\n",
    "            sonuç.append(sorted_odd[index])\n",
    "            index += 1\n",
    "        else:\n",
    "            sonuç.append(i)\n",
    "    \n",
    "    return sonuç\n",
    "\n",
    "asc([9, 8, 7, 6, 5, 4, 3, 2, 1, 0])"
   ]
  },
  {
   "cell_type": "markdown",
   "id": "0de6ca91",
   "metadata": {},
   "source": [
    "11 - bir fonksiyon yazın. İçerisine girilen string ifadenin her seferinde sırayla bir harfini büyük yazdırsın. Sonuç olarak liste döndürsün. Punctuation lar işleme dahil edilmemelidir.\n",
    "\n",
    "Example:\n",
    "input >> ankara\n",
    "\n",
    "output >> ['Ankara', 'aNkara', 'anKara', 'ankAra', 'ankaRa', 'ankarA']"
   ]
  },
  {
   "cell_type": "code",
   "execution_count": 9,
   "id": "975e41b9",
   "metadata": {},
   "outputs": [
    {
     "data": {
      "text/plain": [
       "['Ankara', 'aNkara', 'anKara', 'ankAra', 'ankaRa', 'ankarA']"
      ]
     },
     "execution_count": 9,
     "metadata": {},
     "output_type": "execute_result"
    }
   ],
   "source": [
    "## soru 11 çözüm\n",
    "\n",
    "import string\n",
    "\n",
    "def sırayla_bir_büyük(name):\n",
    "\n",
    "    name = name.lower()\n",
    "\n",
    "    aa =  \"\".join([i for i in name if i in string.ascii_lowercase])\n",
    "\n",
    "    liste = []\n",
    "\n",
    "    for j in range(len(aa)):\n",
    "\n",
    "        liste.append(aa[0:j] + aa[j].upper() + aa[j + 1:])\n",
    "\n",
    "    return liste\n",
    "\n",
    "sırayla_bir_büyük(\"An+-kara?*,.\")"
   ]
  },
  {
   "cell_type": "markdown",
   "id": "1e98a1a3",
   "metadata": {},
   "source": [
    "12 - Write a function, which takes a non-negative integer (seconds) as input and returns the time in a human-readable format (HH:MM:SS)\n",
    "\n",
    "HH = hours, padded to 2 digits, range: 00 - 99\n",
    "MM = minutes, padded to 2 digits, range: 00 - 59\n",
    "SS = seconds, padded to 2 digits, range: 00 - 59\n",
    "The maximum time never exceeds 359999 (99:59:59)\n",
    "[bağlantı metni](https://www.codewars.com/kata/52685f7382004e774f0001f7)"
   ]
  },
  {
   "cell_type": "code",
   "execution_count": null,
   "id": "9c0eb1c8",
   "metadata": {},
   "outputs": [],
   "source": [
    "### soru 12 çözüm\n",
    "\n",
    "def second(x):\n",
    "    a = [0,1,2,3,4,5,6,7,8,9]\n",
    "    hh = x // 3600\n",
    "    mm = (x % 3600) // 60\n",
    "    ss = x - ((hh * 3600) + (mm * 60))\n",
    "    if hh in a:\n",
    "        hh = f\"0{hh}\"\n",
    "    if ss in a:\n",
    "        ss = f\"0{ss}\"\n",
    "    if mm in a:\n",
    "        mm = f\"0{mm}\"\n",
    "\n",
    "    print(hh,\":\",mm,\":\",ss)\n",
    "second(3601)"
   ]
  },
  {
   "cell_type": "markdown",
   "id": "3ecf0ab9",
   "metadata": {},
   "source": [
    "13 - Write a function scramble(str1, str2) that returns true if some of the str 1 characters can be rearranged to match str 2, false otherwise\n",
    "#Note >> Only lower case letters will be used (a-z). No punctuation or digits will be included.\n",
    "\n",
    "#Examples\n",
    "#scramble('rkqodlw', 'world') ==> True\n",
    "#scramble('katas', 'steak') ==> False"
   ]
  },
  {
   "cell_type": "code",
   "execution_count": null,
   "id": "0d3f0772",
   "metadata": {},
   "outputs": [],
   "source": [
    "## soru 13 çözüm 1\n",
    "\n",
    "def scramble(str1, str2):\n",
    "    set1 = set(str1)\n",
    "    \n",
    "    count = 0\n",
    "    for i in str2:\n",
    "        if i in set1:\n",
    "            count += 1\n",
    "\n",
    "    if count == len(str2):\n",
    "        return True\n",
    "    else:\n",
    "        return False\n",
    "\n",
    "scramble(\"datascientist\",\"sedat\")"
   ]
  },
  {
   "cell_type": "code",
   "execution_count": null,
   "id": "3ee331ed",
   "metadata": {},
   "outputs": [],
   "source": [
    "## soru 13 çözüm 2\n",
    "\n",
    "def scramble1(str1, str2):\n",
    "\n",
    "    set1, set2 = set(str1), set(str2)\n",
    "\n",
    "    return set2.issubset(set1)\n",
    "\n",
    "scramble(\"datascientist\",\"sedat\")"
   ]
  },
  {
   "cell_type": "markdown",
   "id": "c0900727",
   "metadata": {},
   "source": [
    "14 - 1 den 100 e kadar olan sayılardaki asal sayıları bulun. \n",
    "\n",
    "Output >>> [2, 3, 5, 7, 11, 13, 17, 19, 23, 29, 31, 37, 41, 43, 47, 53, 59, 61, 67, 71, 73, 79, 83, 89, 97]"
   ]
  },
  {
   "cell_type": "code",
   "execution_count": null,
   "id": "5b6cc46c",
   "metadata": {},
   "outputs": [],
   "source": [
    "### soru 14 çözüm\n",
    "\n",
    "y = input(\"Enter a positive number\")\n",
    "if y.isdigit():\n",
    "    x = int(y)\n",
    "    liste = []\n",
    "    for k in range(2,x +1):\n",
    "        count = 0\n",
    "        for i in range(1, k + 1):\n",
    "            if (k % i) == 0:\n",
    "                count += 1\n",
    "        if count <= 2:\n",
    "            liste.append(k)      \n",
    "    print(\"prime numbers up to:\",x, \">>\", liste)\n",
    "    \n",
    "else:\n",
    "    print(\"It is an invalid entry. Don't use non-numeric, float, or negative values!\")"
   ]
  },
  {
   "cell_type": "markdown",
   "id": "e8a6836f",
   "metadata": {},
   "source": [
    "15 - ```\n",
    "7- Once upon a time, on a way through the old wild mountainous west,…\n",
    "… a man was given directions to go from one point to another. The directions were \"NORTH\", \"SOUTH\", \"WEST\", \"EAST\". Clearly \"NORTH\" and \"SOUTH\" are opposite, \"WEST\" and \"EAST\" too.\n",
    "\n",
    "Going to one direction and coming back the opposite direction right away is a needless effort. Since this is the wild west, with dreadfull weather and not much water, it's important to save yourself some energy, otherwise you might die of thirst!\n",
    "\n",
    "How I crossed a mountainous desert the smart way.\n",
    "The directions given to the man are, for example, the following (depending on the language):\n",
    "\n",
    "[\"NORTH\", \"SOUTH\", \"SOUTH\", \"EAST\", \"WEST\", \"NORTH\", \"WEST\"].\n",
    "or\n",
    "{ \"NORTH\", \"SOUTH\", \"SOUTH\", \"EAST\", \"WEST\", \"NORTH\", \"WEST\" };\n",
    "or\n",
    "[North, South, South, East, West, North, West]\n",
    "You can immediatly see that going \"NORTH\" and immediately \"SOUTH\" is not reasonable, better stay to the same place! So the task is to give to the man a simplified version of the plan. A better plan in this case is simply:\n",
    "\n",
    "[\"WEST\"]\n",
    "or\n",
    "{ \"WEST\" }\n",
    "or\n",
    "[West]\n",
    "Other examples:\n",
    "In [\"NORTH\", \"SOUTH\", \"EAST\", \"WEST\"], the direction \"NORTH\" + \"SOUTH\" is going north and coming back right away.\n",
    "\n",
    "The path becomes [\"EAST\", \"WEST\"], now \"EAST\" and \"WEST\" annihilate each other, therefore, the final result is [] (nil in Clojure).\n",
    "\n",
    "In [\"NORTH\", \"EAST\", \"WEST\", \"SOUTH\", \"WEST\", \"WEST\"], \"NORTH\" and \"SOUTH\" are not directly opposite but they become directly opposite after the reduction of \"EAST\" and \"WEST\" so the whole path is reducible to [\"WEST\", \"WEST\"].\n",
    "\n",
    "Task\n",
    "Write a function dirReduc which will take an array of strings and returns an array of strings with the needless directions removed (W<->E or S<->N side by side).\n",
    "\n",
    "The Haskell version takes a list of directions with data Direction = North | East | West | South.\n",
    "The Clojure version returns nil when the path is reduced to nothing.\n",
    "The Rust version takes a slice of enum Direction {North, East, West, South}.\n",
    "See more examples in \"Sample Tests:\"\n",
    "Notes\n",
    "Not all paths can be made simpler. The path [\"NORTH\", \"WEST\", \"SOUTH\", \"EAST\"] is not reducible. \"NORTH\" and \"WEST\", \"WEST\" and \"SOUTH\", \"SOUTH\" and \"EAST\" are not directly opposite of each other and can't become such. Hence the result path is itself : [\"NORTH\", \"WEST\", \"SOUTH\", \"EAST\"].\n",
    "```\n",
    "\n",
    "\n"
   ]
  },
  {
   "cell_type": "code",
   "execution_count": null,
   "id": "9545c229",
   "metadata": {},
   "outputs": [],
   "source": [
    "### soru 15 çözüm\n",
    "\n",
    "def yönler(liste):\n",
    "\n",
    "    str_yönler = \"\".join([i[0] for i in liste])\n",
    "\n",
    "    while \"NS\" in str_yönler or \"SN\" in str_yönler or \"WE\" in str_yönler or \"EW\" in str_yönler:\n",
    "\n",
    "        str_yönler = str_yönler.replace(\"NS\",\"\").replace(\"SN\",\"\").replace(\"WE\",\"\").replace(\"EW\",\"\")\n",
    "\n",
    "    return str_yönler\n",
    "\n",
    "\n",
    "yönler([\"NORTH\", \"SOUTH\", \"SOUTH\", \"EAST\", \"WEST\", \"NORTH\", \"WEST\"])"
   ]
  }
 ],
 "metadata": {
  "kernelspec": {
   "display_name": "Python 3 (ipykernel)",
   "language": "python",
   "name": "python3"
  },
  "language_info": {
   "codemirror_mode": {
    "name": "ipython",
    "version": 3
   },
   "file_extension": ".py",
   "mimetype": "text/x-python",
   "name": "python",
   "nbconvert_exporter": "python",
   "pygments_lexer": "ipython3",
   "version": "3.10.9"
  }
 },
 "nbformat": 4,
 "nbformat_minor": 5
}
