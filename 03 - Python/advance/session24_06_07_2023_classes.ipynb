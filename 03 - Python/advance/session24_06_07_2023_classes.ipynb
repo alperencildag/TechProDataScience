{
 "cells": [
  {
   "cell_type": "code",
   "execution_count": 1,
   "metadata": {},
   "outputs": [
    {
     "name": "stdout",
     "output_type": "stream",
     "text": [
      "merhaba kelimesinde 3 sesli harf vardır\n"
     ]
    }
   ],
   "source": [
    "sesli_harfler = 'aeıioöuü'\n",
    "sayac = 0\n",
    "\n",
    "kelime = input(\"Bir kelime giriniz\").lower()\n",
    "\n",
    "for harf in kelime: # avokado\n",
    "    if harf in sesli_harfler:\n",
    "        sayac += 1\n",
    "\n",
    "mesaj = f\"{kelime} kelimesinde {sayac} sesli harf vardır\"\n",
    "print(mesaj)"
   ]
  },
  {
   "cell_type": "code",
   "execution_count": 7,
   "metadata": {},
   "outputs": [
    {
     "name": "stdout",
     "output_type": "stream",
     "text": [
      "kelimeler kelimesinde 4 sesli harf vardır\n"
     ]
    }
   ],
   "source": [
    "sesli_harfler = 'aeıioöuü'\n",
    "sayac = 0\n",
    "\n",
    "def kelime_sor():\n",
    "    return input(\"Bir kelime giriniz\").lower()\n",
    "\n",
    "def seslidir(harf):\n",
    "    return harf in sesli_harfler\n",
    "\n",
    "def artir(sayac, kelime):    \n",
    "    for harf in kelime:\n",
    "        if seslidir(harf):\n",
    "            sayac +=1\n",
    "    return sayac\n",
    "\n",
    "def ekrana_goster(kelime):\n",
    "    mesaj = f\"{kelime} kelimesinde {artir(sayac, kelime)} sesli harf vardır\"\n",
    "    print(mesaj)\n",
    "\n",
    "def calistir():\n",
    "    kelime = kelime_sor()\n",
    "    ekrana_goster(kelime)\n",
    "\n",
    "if __name__ == '__main__':\n",
    "    calistir()"
   ]
  },
  {
   "cell_type": "code",
   "execution_count": 11,
   "metadata": {},
   "outputs": [
    {
     "name": "stdout",
     "output_type": "stream",
     "text": [
      "fdgdfbfdmnbdvsfnvaklrjgaekrtlshkxfgşndfgs kelimesinde 3 sesli, 37 sessiz harf vardır\n"
     ]
    }
   ],
   "source": [
    "class HarfSayaci:\n",
    "    def __init__(self):\n",
    "        self.sesli_harfler = \"aeıioöuü\"\n",
    "        self.sessiz_harfler = \"bcçdfgğhjklmnprsştvyz\"\n",
    "        self.sayac_sesli = 0\n",
    "        self.sayac_sessiz = 0\n",
    "\n",
    "    def kelime_sor(self):\n",
    "        return input(\"Bir kelime giriniz: \").lower()\n",
    "    \n",
    "    def seslidir(self, harf):\n",
    "        return harf in self.sesli_harfler\n",
    "    \n",
    "    def sessizdir(self, harf):\n",
    "        return harf in self.sessiz_harfler\n",
    "    \n",
    "    def artir(self):\n",
    "        for harf in self.kelime:\n",
    "            if self.seslidir(harf):\n",
    "                self.sayac_sesli += 1\n",
    "            elif self.sessizdir(harf):\n",
    "                self.sayac_sessiz += 1\n",
    "        return (self.sayac_sesli, self.sayac_sessiz)\n",
    "    \n",
    "    def ekrana_goster(self):\n",
    "        sesli, sessiz = self.artir()\n",
    "        mesaj = f\"{self.kelime} kelimesinde {sesli} sesli, {sessiz} sessiz harf vardır\"\n",
    "        print(mesaj)\n",
    "\n",
    "    def calistir(self):\n",
    "        self.kelime = self.kelime_sor()\n",
    "        self.ekrana_goster()\n",
    "\n",
    "if __name__ == '__main__':\n",
    "    harfsay = HarfSayaci()\n",
    "    harfsay.calistir()\n"
   ]
  },
  {
   "cell_type": "code",
   "execution_count": 13,
   "metadata": {},
   "outputs": [
    {
     "name": "stdout",
     "output_type": "stream",
     "text": [
      "0\n",
      "2\n"
     ]
    }
   ],
   "source": [
    "class Personel:\n",
    "    zam_orani = 1.05\n",
    "    personel_sayisi = 0\n",
    "\n",
    "    def __init__(self, isim, soyisim, maas):\n",
    "        self.name = isim\n",
    "        self.soyad = soyisim\n",
    "        self.price = maas\n",
    "        self.eposta = f\"{isim.lower()}.{soyisim.lower}@firma.com\"\n",
    "\n",
    "        Personel.personel_sayisi += 1\n",
    "\n",
    "    def tam_isim(self):\n",
    "        return f\"{self.name} {self.soyad}\"\n",
    "    \n",
    "    def zam_uygula(self):\n",
    "        self.price = self.price * self.zam_orani\n",
    "\n",
    "print(Personel.personel_sayisi)\n",
    "\n",
    "per1 = Personel(\"Hülya\", \"Keser\", 50000)\n",
    "per2 = Personel(\"Ayşe\", \"Polat\", 40000)\n",
    "\n",
    "print(Personel.personel_sayisi)"
   ]
  },
  {
   "attachments": {},
   "cell_type": "markdown",
   "metadata": {},
   "source": [
    "# OOP Metadolojileri"
   ]
  },
  {
   "cell_type": "code",
   "execution_count": 33,
   "metadata": {},
   "outputs": [],
   "source": [
    "class Arac:\n",
    "    def __init__(self, marka, model, renk):\n",
    "        self.marka = marka\n",
    "        self.model = model\n",
    "        self.renk = renk\n",
    "\n",
    "    def hareket_et(self):\n",
    "        print(f\"{self.marka} araç hareket ediyor.\")\n",
    "\n",
    "    def dur(self):\n",
    "        print(f\"{self.marka} araç durdu\")\n",
    "\n",
    "\n",
    "class Araba(Arac):\n",
    "    def __init__(self, marka, model, renk, hiz):\n",
    "        super().__init__(marka, model, renk)\n",
    "        self.hiz = hiz\n",
    "\n",
    "    def hareket_et(self):\n",
    "        print(f\"{self.marka} araba hareket ediyor\")\n",
    "\n",
    "    def dur(self):\n",
    "        print(f\"{self.marka} araba durdu\")\n",
    "\n",
    "\n",
    "class Bisiklet(Arac):\n",
    "    def __init__(self, marka, model, renk, vites_sayisi):\n",
    "        super().__init__(marka, model, renk)\n",
    "        self.vites_sayisi = vites_sayisi\n",
    "\n",
    "    def hareket_et(self):\n",
    "        print(f\"{self.marka} bisiklet hareket etti\")\n"
   ]
  },
  {
   "cell_type": "code",
   "execution_count": 27,
   "metadata": {},
   "outputs": [
    {
     "name": "stdout",
     "output_type": "stream",
     "text": [
      "<__main__.Araba object at 0x000001D0D56DFA90>\n",
      "Mercedes araba hareket ediyor\n"
     ]
    }
   ],
   "source": [
    "araba1 = Araba(\"Mercedes\", \"S300\", \"Kırmızı\", 300)\n",
    "print(araba1)\n",
    "araba1.hareket_et()"
   ]
  },
  {
   "cell_type": "code",
   "execution_count": 28,
   "metadata": {},
   "outputs": [
    {
     "name": "stdout",
     "output_type": "stream",
     "text": [
      "Mercedes araba durdu\n"
     ]
    }
   ],
   "source": [
    "araba1.dur()"
   ]
  },
  {
   "cell_type": "code",
   "execution_count": 35,
   "metadata": {},
   "outputs": [
    {
     "name": "stdout",
     "output_type": "stream",
     "text": [
      "Bisan bisiklet hareket etti\n",
      "Mountain Bike\n",
      "Gri\n",
      "26\n"
     ]
    }
   ],
   "source": [
    "bisiklet1 = Bisiklet(\"Bisan\", \"Mountain Bike\", \"Gri\", 26)\n",
    "bisiklet1.hareket_et()\n",
    "print(bisiklet1.model)\n",
    "print(bisiklet1.renk)\n",
    "print(bisiklet1.vites_sayisi)"
   ]
  }
 ],
 "metadata": {
  "kernelspec": {
   "display_name": "Python 3",
   "language": "python",
   "name": "python3"
  },
  "language_info": {
   "codemirror_mode": {
    "name": "ipython",
    "version": 3
   },
   "file_extension": ".py",
   "mimetype": "text/x-python",
   "name": "python",
   "nbconvert_exporter": "python",
   "pygments_lexer": "ipython3",
   "version": "3.11.2"
  },
  "orig_nbformat": 4
 },
 "nbformat": 4,
 "nbformat_minor": 2
}
