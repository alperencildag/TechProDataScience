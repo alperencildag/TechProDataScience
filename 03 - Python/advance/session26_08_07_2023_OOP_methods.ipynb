{
 "cells": [
  {
   "cell_type": "markdown",
   "metadata": {},
   "source": [
    "# polymorphism"
   ]
  },
  {
   "cell_type": "code",
   "execution_count": 2,
   "metadata": {},
   "outputs": [
    {
     "name": "stdout",
     "output_type": "stream",
     "text": [
      "Dikdörtgencik alanı: 20\n",
      "Üçgencik alanı: 9.0\n"
     ]
    }
   ],
   "source": [
    "class Sekil: # Ana sınıf\n",
    "    def __init__(self, ad):\n",
    "        self.ad = ad\n",
    "\n",
    "    def alan_hesapla(self):\n",
    "        pass\n",
    "\n",
    "class Dikdortgen(Sekil):\n",
    "    def __init__(self, ad, uzunluk, genislik):\n",
    "        super().__init__(ad)\n",
    "        self.uzunluk = uzunluk\n",
    "        self.genislik = genislik\n",
    "\n",
    "    def alan_hesapla(self):\n",
    "        return self.uzunluk * self.genislik\n",
    "    \n",
    "class Ucgen(Sekil):\n",
    "    def __init__(self, ad, taban, yukseklik):\n",
    "        super().__init__(ad)\n",
    "        self.taban = taban\n",
    "        self.yukseklik = yukseklik\n",
    "\n",
    "    def alan_hesapla(self):\n",
    "        return 0.5 * self.taban * self.yukseklik\n",
    "    \n",
    "\n",
    "dikdortgen = Dikdortgen(\"Dikdörtgencik\", 4, 5)\n",
    "ucgen = Ucgen(\"Üçgencik\", 3, 6)\n",
    "\n",
    "sekil_listesi = [dikdortgen, ucgen]\n",
    "\n",
    "for sekil in sekil_listesi:\n",
    "    print(f\"{sekil.ad} alanı: {sekil.alan_hesapla()}\")"
   ]
  },
  {
   "cell_type": "code",
   "execution_count": 4,
   "metadata": {},
   "outputs": [
    {
     "name": "stdout",
     "output_type": "stream",
     "text": [
      "Ali Kaya isimli yöneticinin toplam maaşı : 60000\n",
      "Ayşe Küçük isimli personelin maaşı : 30000\n",
      "Ahmet Kılıç isimli personelin maaşı : 25000\n"
     ]
    }
   ],
   "source": [
    "class Calisan:\n",
    "    def __init__(self, ad, soyad):\n",
    "        self.ad = ad\n",
    "        self.soyad = soyad\n",
    "\n",
    "    def maas_hesapla(self):\n",
    "        pass\n",
    "\n",
    "class Yonetici(Calisan):\n",
    "    def __init__(self, ad, soyad, maas, prim):\n",
    "        super().__init__(ad, soyad)\n",
    "        self.maas = maas\n",
    "        self.prim = prim\n",
    "\n",
    "    def maas_hesapla(self):\n",
    "        maas_toplam = self.maas + self.prim\n",
    "        print(f\"{self.ad} {self.soyad} isimli yöneticinin toplam maaşı : {maas_toplam}\")\n",
    "\n",
    "class Personel(Calisan):\n",
    "    def __init__(self, ad, soyad, maas):\n",
    "        super().__init__(ad, soyad)\n",
    "        self.maas = maas\n",
    "\n",
    "    def maas_hesapla(self):\n",
    "        print(f\"{self.ad} {self.soyad} isimli personelin maaşı : {self.maas}\")\n",
    "\n",
    "\n",
    "calisanlar = [\n",
    "    Yonetici(\"Ali\", \"Kaya\", 50000, 10000), \n",
    "    Personel(\"Ayşe\", \"Küçük\", 30000), \n",
    "    Personel(\"Ahmet\", \"Kılıç\", 25000)\n",
    "    ]\n",
    "\n",
    "for calisan in calisanlar:\n",
    "    calisan.maas_hesapla()"
   ]
  },
  {
   "cell_type": "code",
   "execution_count": 6,
   "metadata": {},
   "outputs": [
    {
     "name": "stdout",
     "output_type": "stream",
     "text": [
      "Mehmet Duran isimli yöneticinin performansı değerlendiriliyor...\n",
      "Burak Yiğit isimli çalışanın performansı değerlendiriliyor...\n",
      "Gönül Yardımcı isimli çalışanın performansı değerlendiriliyor...\n",
      "Mehmet Duran isimli yöneticiye 11200.0 TL prim ödenecek.\n",
      "Burak Yiğit isimli personele 1500.0 TL zam yapılacak.\n"
     ]
    }
   ],
   "source": [
    "class Calisan:\n",
    "    def __init__(self, ad, soyad, maas):\n",
    "        self.ad = ad\n",
    "        self.soyad = soyad\n",
    "        self.maas = maas\n",
    "\n",
    "    def performans_degerlendirme(self):\n",
    "        pass\n",
    "\n",
    "    \n",
    "\n",
    "class Yonetici(Calisan):\n",
    "    def __init__(self, ad, soyad, maas, alt_calisanlar):\n",
    "        super().__init__(ad, soyad, maas)\n",
    "        self.alt_calisanlar = alt_calisanlar\n",
    "\n",
    "    def performans_degerlendirme(self):\n",
    "        print(f\"{self.ad} {self.soyad} isimli yöneticinin performansı değerlendiriliyor...\")\n",
    "\n",
    "        for alt_calisan in self.alt_calisanlar:\n",
    "            alt_calisan.performans_degerlendirme()\n",
    "\n",
    "    def prim_hesapla(self):\n",
    "        toplam_maas = self.maas\n",
    "\n",
    "        for alt_calisan in self.alt_calisanlar:\n",
    "            toplam_maas += alt_calisan.maas\n",
    "\n",
    "        prim = toplam_maas * 0.1\n",
    "\n",
    "        print(f\"{self.ad} {self.soyad} isimli yöneticiye {prim} TL prim ödenecek.\")\n",
    "\n",
    "    \n",
    "class Personel(Calisan):\n",
    "    def __init__(self, ad, soyad, maas):\n",
    "        super().__init__(ad, soyad, maas)\n",
    "\n",
    "    def performans_degerlendirme(self):\n",
    "        print(f\"{self.ad} {self.soyad} isimli çalışanın performansı değerlendiriliyor...\")\n",
    "\n",
    "    def zam_hesapla(self):\n",
    "        zam_orani = self.maas * 0.05\n",
    "        print(f\"{self.ad} {self.soyad} isimli personele {zam_orani} TL zam yapılacak.\")\n",
    "\n",
    "    \n",
    "calisan1 = Personel(\"Burak\", \"Yiğit\", 30000)\n",
    "calisan2 = Personel(\"Gönül\", \"Yardımcı\", 32000)\n",
    "calisan3 = Yonetici(\"Mehmet\", \"Duran\", 50000, [calisan1, calisan2])\n",
    "\n",
    "calisan3.performans_degerlendirme()\n",
    "calisan3.prim_hesapla()\n",
    "calisan1.zam_hesapla()\n"
   ]
  },
  {
   "cell_type": "code",
   "execution_count": 8,
   "metadata": {},
   "outputs": [
    {
     "name": "stdout",
     "output_type": "stream",
     "text": [
      "40\n"
     ]
    }
   ],
   "source": [
    "#abstraction\n",
    "class Stack:\n",
    "    def __init__(self):\n",
    "        self.items = []\n",
    "\n",
    "    def push(self, item):\n",
    "        self.items.append(item)\n",
    "\n",
    "    def pop(self):\n",
    "        return self.items.pop()\n",
    "    \n",
    "\n",
    "stack = Stack()\n",
    "stack.push(10)\n",
    "stack.push(20)\n",
    "stack.push(40)\n",
    "\n",
    "print(stack.pop())\n"
   ]
  },
  {
   "cell_type": "markdown",
   "metadata": {},
   "source": [
    "***@abstractmethod***, Python'da soyut metotları tanımlamak için kullanılan bir dekoratördür. Soyut metotlar, bir üst sınıfta tanımlanırken alt sınıflar tarafından uygulanması gereken metotlardır. Soyut metotlar, üst sınıfta sadece metot imzasını (method signature) belirtirken, alt sınıflarda tamamlanması gereken özel işlevleri sağlamak için kullanılır."
   ]
  },
  {
   "cell_type": "code",
   "execution_count": 9,
   "metadata": {},
   "outputs": [
    {
     "name": "stdout",
     "output_type": "stream",
     "text": [
      "20\n"
     ]
    }
   ],
   "source": [
    "from abc import ABC, abstractmethod\n",
    "\n",
    "class Sekil(ABC):\n",
    "    @abstractmethod\n",
    "    def alan(self):\n",
    "        pass\n",
    "\n",
    "class Dikdortgen(Sekil):\n",
    "    def __init__(self, en, boy):\n",
    "        self.en = en\n",
    "        self.boy = boy\n",
    "\n",
    "    def alan(self):\n",
    "        return self.en * self.boy\n",
    "    \n",
    "dikdortgen = Dikdortgen(4, 5)\n",
    "print(dikdortgen.alan())"
   ]
  },
  {
   "cell_type": "code",
   "execution_count": 12,
   "metadata": {},
   "outputs": [
    {
     "name": "stdout",
     "output_type": "stream",
     "text": [
      "LG ürününden 100 adet stokta bulunmaktadır\n",
      "Piyale ürününden 1000 adet stokta bulunmaktadır\n",
      "LG ürürünün stok güncellemesi yapıldı. Yeni stok: 150\n",
      "Piyale ürürünün stok güncellemesi yapıldı. Yeni stok: 975\n"
     ]
    }
   ],
   "source": [
    "from abc import ABC, abstractmethod\n",
    "\n",
    "class Urun(ABC):\n",
    "    def __init__(self, ad, fiyat):\n",
    "        self.ad = ad\n",
    "        self.fiyat = fiyat\n",
    "\n",
    "    @abstractmethod\n",
    "    def stok_durumu(self):\n",
    "        pass\n",
    "\n",
    "    @abstractmethod\n",
    "    def stok_guncelle(self, miktar):\n",
    "        pass\n",
    "    \n",
    "    \n",
    "\n",
    "class Elektronik(Urun):\n",
    "    def __init__(self, ad, fiyat, stok, zam):\n",
    "        super().__init__(ad, fiyat)\n",
    "        self.stok = stok\n",
    "\n",
    "    def stok_durumu(self):\n",
    "        if self.stok > 0:\n",
    "            print(f\"{self.ad} ürününden {self.stok} adet stokta bulunmaktadır\")\n",
    "        else:\n",
    "            print(f\"{self.ad} ürünü stokta bulunmamaktadır\")\n",
    "\n",
    "    def stok_guncelle(self, miktar):\n",
    "        self.stok += miktar\n",
    "        print(f\"{self.ad} ürürünün stok güncellemesi yapıldı. Yeni stok: {self.stok}\")\n",
    "\n",
    "    def fiyat_guncelle(self):\n",
    "        self.zam = 5000\n",
    "\n",
    "class Gida(Urun):\n",
    "\n",
    "    def __init__(self, ad, fiyat, stok):\n",
    "        super().__init__(ad, fiyat)\n",
    "        self.stok = stok\n",
    "    \n",
    "    def stok_durumu(self):\n",
    "        if self.stok > 0:\n",
    "            print(f\"{self.ad} ürününden {self.stok} adet stokta bulunmaktadır\")\n",
    "        else:\n",
    "            print(f\"{self.ad} ürünü stokta bulunmamaktadır\")\n",
    "\n",
    "    def stok_guncelle(self, miktar):\n",
    "        self.stok += miktar\n",
    "        print(f\"{self.ad} ürürünün stok güncellemesi yapıldı. Yeni stok: {self.stok}\")\n",
    "\n",
    "\n",
    "televizyon = Elektronik(\"LG\", 30000, 100)\n",
    "makarna = Gida(\"Piyale\", 5, 1000)\n",
    "\n",
    "\n",
    "televizyon.stok_durumu()\n",
    "makarna.stok_durumu()\n",
    "        \n",
    "televizyon.stok_guncelle(50)\n",
    "makarna.stok_guncelle(-25)"
   ]
  },
  {
   "cell_type": "code",
   "execution_count": 13,
   "metadata": {},
   "outputs": [
    {
     "name": "stdout",
     "output_type": "stream",
     "text": [
      "Miyav!\n",
      "Oyuncağı yakalamak için zıplar\n"
     ]
    }
   ],
   "source": [
    "class Kedi:\n",
    "    def miyavla(self):\n",
    "        print(\"Miyav!\")\n",
    "\n",
    "    def oyna(self):\n",
    "        print(\"Oyuncağı yakalamak için zıplar\")\n",
    "\n",
    "kedi1 = Kedi()\n",
    "kedi1.miyavla()\n",
    "\n",
    "kedi1.oyna()"
   ]
  },
  {
   "cell_type": "code",
   "execution_count": 14,
   "metadata": {},
   "outputs": [
    {
     "name": "stdout",
     "output_type": "stream",
     "text": [
      "50\n",
      "0\n"
     ]
    }
   ],
   "source": [
    "class Araba:\n",
    "    def __init__(self, hiz, renk, yakit):\n",
    "        self.hiz = hiz\n",
    "        self.renk = renk\n",
    "        self.yakit = yakit\n",
    "\n",
    "    def hizlan(self, hiz_artisi):\n",
    "        self.hiz += hiz_artisi\n",
    "\n",
    "    def dur(self):\n",
    "        self.hiz = 0\n",
    "\n",
    "\n",
    "araba1 = Araba(0, \"Kırmızı\", \"Elektrik\")\n",
    "araba1.hizlan(50)\n",
    "print(araba1.hiz)\n",
    "\n",
    "araba1.dur()\n",
    "print(araba1.hiz)"
   ]
  },
  {
   "cell_type": "code",
   "execution_count": 25,
   "metadata": {},
   "outputs": [
    {
     "name": "stdout",
     "output_type": "stream",
     "text": [
      "İsim:  Ahmet\n",
      "Soyisim:  Kaleli\n",
      "Exam 1:  70\n",
      "Exam 1:  80\n"
     ]
    },
    {
     "ename": "AttributeError",
     "evalue": "'RegisterCourse' object has no attribute '__add'",
     "output_type": "error",
     "traceback": [
      "\u001b[1;31m---------------------------------------------------------------------------\u001b[0m",
      "\u001b[1;31mAttributeError\u001b[0m                            Traceback (most recent call last)",
      "Cell \u001b[1;32mIn[25], line 31\u001b[0m\n\u001b[0;32m     28\u001b[0m \u001b[39mprint\u001b[39m(\u001b[39m\"\u001b[39m\u001b[39mExam 1: \u001b[39m\u001b[39m\"\u001b[39m, register\u001b[39m.\u001b[39mget_sinav())\n\u001b[0;32m     29\u001b[0m \u001b[39mprint\u001b[39m(\u001b[39m\"\u001b[39m\u001b[39mExam 1: \u001b[39m\u001b[39m\"\u001b[39m, register\u001b[39m.\u001b[39mset_sinav(\u001b[39m80\u001b[39m))\n\u001b[1;32m---> 31\u001b[0m \u001b[39mprint\u001b[39m(register\u001b[39m.\u001b[39;49m__add(\u001b[39m90\u001b[39m))\n\u001b[0;32m     32\u001b[0m \u001b[39mprint\u001b[39m(\u001b[39m\"\u001b[39m\u001b[39mExam 2: \u001b[39m\u001b[39m\"\u001b[39m, register\u001b[39m.\u001b[39mexam2)\n\u001b[0;32m     34\u001b[0m register\u001b[39m.\u001b[39mexam1 \u001b[39m=\u001b[39m \u001b[39m90\u001b[39m\n",
      "\u001b[1;31mAttributeError\u001b[0m: 'RegisterCourse' object has no attribute '__add'"
     ]
    }
   ],
   "source": [
    "# encapsulation\n",
    "\n",
    "class RegisterCourse:\n",
    "    def __init__(self, name, surname, exam1, exam2):\n",
    "        self.name = name\n",
    "        self.surname = surname\n",
    "        self.__exam1 = exam1\n",
    "        self.__exam2 = exam2\n",
    "        self.__courses = []\n",
    "\n",
    "    def __add(self, course):\n",
    "        self.__corses.append(course)\n",
    "\n",
    "\n",
    "    \n",
    "\n",
    "    def get_sinav(self):\n",
    "        return (self.__exam1)\n",
    "    \n",
    "    def set_sinav(self, note):\n",
    "        self.__exam1 = note\n",
    "        return self.__exam1\n",
    "\n",
    "register = RegisterCourse(\"Ahmet\", \"Kaleli\", 70, 80)\n",
    "\n",
    "print(\"İsim: \", register.name)\n",
    "print(\"Soyisim: \", register.surname)\n",
    "print(\"Exam 1: \", register.get_sinav())\n",
    "print(\"Exam 1: \", register.set_sinav(80))\n",
    "\n",
    "print(register.__add(90))\n",
    "print(\"Exam 2: \", register.exam2)\n",
    "\n",
    "register.exam1 = 90\n",
    "\n",
    "print(\"Exam 1: \", register.exam1)"
   ]
  },
  {
   "cell_type": "code",
   "execution_count": 36,
   "metadata": {},
   "outputs": [
    {
     "name": "stdout",
     "output_type": "stream",
     "text": [
      "3000\n",
      "5000\n",
      "Geçersiz maaş değeri\n",
      "5000\n"
     ]
    },
    {
     "ename": "AttributeError",
     "evalue": "'Calisan' object has no attribute '__addegis'",
     "output_type": "error",
     "traceback": [
      "\u001b[1;31m---------------------------------------------------------------------------\u001b[0m",
      "\u001b[1;31mAttributeError\u001b[0m                            Traceback (most recent call last)",
      "Cell \u001b[1;32mIn[36], line 29\u001b[0m\n\u001b[0;32m     26\u001b[0m calisan\u001b[39m.\u001b[39mset_maas(\u001b[39m-\u001b[39m\u001b[39m2000\u001b[39m)\n\u001b[0;32m     27\u001b[0m \u001b[39mprint\u001b[39m(calisan\u001b[39m.\u001b[39mget_maas())\n\u001b[1;32m---> 29\u001b[0m calisan\u001b[39m.\u001b[39;49m__addegis(\u001b[39m\"\u001b[39m\u001b[39mMurat\u001b[39m\u001b[39m\"\u001b[39m)\n\u001b[0;32m     30\u001b[0m \u001b[39mprint\u001b[39m(calisan\u001b[39m.\u001b[39mad)\n",
      "\u001b[1;31mAttributeError\u001b[0m: 'Calisan' object has no attribute '__addegis'"
     ]
    }
   ],
   "source": [
    "class Calisan:\n",
    "    def __init__(self, ad, maas):\n",
    "        self.__ad = ad\n",
    "        self.__maas = maas\n",
    "\n",
    "    def get_maas(self):\n",
    "        return self.__maas\n",
    "    \n",
    "    def set_maas(self, yeni_maas):\n",
    "        if yeni_maas > self.__maas:\n",
    "            self.__maas = yeni_maas\n",
    "        else:\n",
    "            print(\"Geçersiz maaş değeri\")\n",
    "\n",
    "    def __addegis(self, yeni_ad):\n",
    "        self.ad = yeni_ad\n",
    "\n",
    "calisan = Calisan(\"Ali\", 3000)\n",
    "\n",
    "# print(calisan.__ad)\n",
    "print(calisan.get_maas())\n",
    "\n",
    "calisan.set_maas(5000)\n",
    "print(calisan.get_maas())\n",
    "\n",
    "calisan.set_maas(-2000)\n",
    "print(calisan.get_maas())\n",
    "\n",
    "calisan.__addegis(\"Murat\")\n",
    "print(calisan.ad)\n"
   ]
  }
 ],
 "metadata": {
  "kernelspec": {
   "display_name": "Python 3",
   "language": "python",
   "name": "python3"
  },
  "language_info": {
   "codemirror_mode": {
    "name": "ipython",
    "version": 3
   },
   "file_extension": ".py",
   "mimetype": "text/x-python",
   "name": "python",
   "nbconvert_exporter": "python",
   "pygments_lexer": "ipython3",
   "version": "3.11.2"
  },
  "orig_nbformat": 4
 },
 "nbformat": 4,
 "nbformat_minor": 2
}
