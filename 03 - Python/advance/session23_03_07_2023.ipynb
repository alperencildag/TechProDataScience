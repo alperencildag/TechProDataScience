{
 "cells": [
  {
   "cell_type": "code",
   "execution_count": 4,
   "metadata": {},
   "outputs": [
    {
     "name": "stdout",
     "output_type": "stream",
     "text": [
      "<_io.TextIOWrapper name='yeni_dosya.txt' mode='w' encoding='utf-8'>\n"
     ]
    }
   ],
   "source": [
    "dosya = open(\"yeni_dosya.txt\", \"w\", encoding=\"utf-8\")\n",
    "print(dosya)"
   ]
  },
  {
   "cell_type": "code",
   "execution_count": 6,
   "metadata": {},
   "outputs": [
    {
     "name": "stdout",
     "output_type": "stream",
     "text": [
      "<_io.TextIOWrapper name='yeni_dosya.txt' mode='w' encoding='utf-8'>\n"
     ]
    }
   ],
   "source": [
    "dosya = open(\"yeni_dosya.txt\", \"w\", encoding=\"utf-8\")\n",
    "dosya.write(\"Ne yazmak istiyorsanız yazın\")\n",
    "print(dosya)\n",
    "dosya.close()"
   ]
  },
  {
   "cell_type": "code",
   "execution_count": 9,
   "metadata": {},
   "outputs": [
    {
     "ename": "UnsupportedOperation",
     "evalue": "not readable",
     "output_type": "error",
     "traceback": [
      "\u001b[1;31m---------------------------------------------------------------------------\u001b[0m",
      "\u001b[1;31mUnsupportedOperation\u001b[0m                      Traceback (most recent call last)",
      "Cell \u001b[1;32mIn[9], line 3\u001b[0m\n\u001b[0;32m      1\u001b[0m file \u001b[39m=\u001b[39m \u001b[39mopen\u001b[39m(\u001b[39m\"\u001b[39m\u001b[39myeni_dosya.txt\u001b[39m\u001b[39m\"\u001b[39m, \u001b[39m\"\u001b[39m\u001b[39ma\u001b[39m\u001b[39m\"\u001b[39m, encoding\u001b[39m=\u001b[39m\u001b[39m\"\u001b[39m\u001b[39mutf-8\u001b[39m\u001b[39m\"\u001b[39m)\n\u001b[0;32m      2\u001b[0m file\u001b[39m.\u001b[39mwrite(\u001b[39m\"\u001b[39m\u001b[39m\\n\u001b[39;00m\u001b[39mYeni satıra başlayalım.\u001b[39m\u001b[39m\"\u001b[39m)\n\u001b[1;32m----> 3\u001b[0m result \u001b[39m=\u001b[39m file\u001b[39m.\u001b[39;49mread()\n\u001b[0;32m      4\u001b[0m \u001b[39mprint\u001b[39m(result)\n\u001b[0;32m      5\u001b[0m file\u001b[39m.\u001b[39mclose()\n",
      "\u001b[1;31mUnsupportedOperation\u001b[0m: not readable"
     ]
    }
   ],
   "source": [
    "file = open(\"yeni_dosya.txt\", \"a\", encoding=\"utf-8\")\n",
    "file.write(\"\\nYeni satıra başlayalım.\")\n",
    "result = file.read()\n",
    "print(result)\n",
    "file.close()"
   ]
  },
  {
   "cell_type": "code",
   "execution_count": 10,
   "metadata": {},
   "outputs": [
    {
     "ename": "UnsupportedOperation",
     "evalue": "not writable",
     "output_type": "error",
     "traceback": [
      "\u001b[1;31m---------------------------------------------------------------------------\u001b[0m",
      "\u001b[1;31mUnsupportedOperation\u001b[0m                      Traceback (most recent call last)",
      "Cell \u001b[1;32mIn[10], line 2\u001b[0m\n\u001b[0;32m      1\u001b[0m file \u001b[39m=\u001b[39m \u001b[39mopen\u001b[39m(\u001b[39m\"\u001b[39m\u001b[39myeni_dosya.txt\u001b[39m\u001b[39m\"\u001b[39m, \u001b[39m\"\u001b[39m\u001b[39mr\u001b[39m\u001b[39m\"\u001b[39m, encoding\u001b[39m=\u001b[39m\u001b[39m\"\u001b[39m\u001b[39mutf-8\u001b[39m\u001b[39m\"\u001b[39m)\n\u001b[1;32m----> 2\u001b[0m file\u001b[39m.\u001b[39;49mwrite(\u001b[39m\"\u001b[39;49m\u001b[39mbir şey yaz\u001b[39;49m\u001b[39m\"\u001b[39;49m)\n\u001b[0;32m      3\u001b[0m result \u001b[39m=\u001b[39m file\u001b[39m.\u001b[39mread()\n\u001b[0;32m      5\u001b[0m \u001b[39mprint\u001b[39m(result)\n",
      "\u001b[1;31mUnsupportedOperation\u001b[0m: not writable"
     ]
    }
   ],
   "source": [
    "file = open(\"yeni_dosya.txt\", \"r\", encoding=\"utf-8\")\n",
    "file.write(\"bir şey yaz\")\n",
    "result = file.read()\n",
    "\n",
    "print(result)"
   ]
  },
  {
   "cell_type": "code",
   "execution_count": 11,
   "metadata": {},
   "outputs": [
    {
     "name": "stdout",
     "output_type": "stream",
     "text": [
      "Ne yazmak istiyorsanız yazın\n",
      "Yeni satıra başlayalım.\n",
      "Yeni satıra başlayalım.\n",
      "Ne yazmak istiyorsanız yazın\n",
      "Yeni satıra başlayalım.\n",
      "Yeni satıra başlayalım.okuduktansonra bunları yaz\n"
     ]
    }
   ],
   "source": [
    "file = open(\"yeni_dosya.txt\", \"r+\", encoding=\"utf-8\")\n",
    "result = file.read()\n",
    "print(result)\n",
    "file.write(\"okuduktansonra bunları yaz\")\n",
    "file.close()\n",
    "\n",
    "file = open(\"yeni_dosya.txt\", \"r\", encoding=\"utf-8\")\n",
    "sonuc = file.read()\n",
    "print(sonuc)\n",
    "file.close()"
   ]
  },
  {
   "cell_type": "code",
   "execution_count": 15,
   "metadata": {},
   "outputs": [
    {
     "name": "stdout",
     "output_type": "stream",
     "text": [
      "başa yazalım\n",
      "rsanız yazın\n",
      "Yeni satıra başlayalım.\n",
      "Yeni satıra başlayalım.okuduktansonra bunları yaz\n",
      "son örnek\n",
      "son örnek\n",
      "0\n",
      "\n",
      "seek örneği\n",
      "sanız yazın\n",
      "Yeni satıra başlayalım.\n",
      "Yeni satıra başlayalım.okuduktansonra bunları yaz\n",
      "son örnek\n",
      "son örnek\n"
     ]
    }
   ],
   "source": [
    "with open(\"yeni_dosya.txt\", \"r+\", encoding=\"utf-8\") as file:\n",
    "    content = file.read()\n",
    "    print(content)\n",
    "    file.seek(0)\n",
    "    print(file.tell())\n",
    "    file.write(\"\\nseek örneği\\n\")\n",
    "\n",
    "with open(\"yeni_dosya.txt\", \"r\", encoding=\"utf-8\") as file:\n",
    "    content = file.read()\n",
    "    print(content)"
   ]
  },
  {
   "cell_type": "code",
   "execution_count": 14,
   "metadata": {},
   "outputs": [
    {
     "name": "stdout",
     "output_type": "stream",
     "text": [
      "başa yazalım\n",
      "rsanız yazın\n",
      "Yeni satıra başlayalım.\n",
      "Yeni satıra başlayalım.okuduktansonra bunları yaz\n",
      "son örnek\n",
      "son örnek\n"
     ]
    }
   ],
   "source": [
    "with open(\"yeni_dosya.txt\", \"r+\", encoding=\"utf-8\") as file:\n",
    "    file.write(\"başa yazalım\\n\")\n",
    "\n",
    "\n",
    "with open(\"yeni_dosya.txt\", \"r\", encoding=\"utf-8\") as file:\n",
    "    content = file.read()\n",
    "    print(content)"
   ]
  },
  {
   "cell_type": "code",
   "execution_count": 27,
   "metadata": {},
   "outputs": [
    {
     "name": "stdout",
     "output_type": "stream",
     "text": [
      "['\\n',\n",
      " '    Milyon Kere Ayten\\n',\n",
      " ' \\n',\n",
      " '    Ben bir Aytendir tutturmuşum  oh ne iyi\\n',\n",
      " '    Aytenli içkiler içip sarhoş oluyorum, ne güzel! \\n',\n",
      " '    Hoşuma gitmiyorsa rengi denizlerin, \\n',\n",
      " '    Biraz Ayten sürüyorum, güzelleşiyor. \\n',\n",
      " '    Şarkılar söylüyorum, \\n',\n",
      " '    Şiirler yazıyorum Ayten üstüne. \\n',\n",
      " '    Saatim her zaman Aytene beş var \\n',\n",
      " '    Ya da Ayteni beş geçiyor. \\n',\n",
      " '    Ne yana baksam gördüğüm o, \\n',\n",
      " '    Gözümü yumsam aklımdan Ayten geçiyor.\\n',\n",
      " '    ']\n"
     ]
    }
   ],
   "source": [
    "with open(\"yeni_dosya.txt\", \"w\", encoding=\"utf-8\") as file:\n",
    "    file.write(\"\"\"\n",
    "    Milyon Kere Ayten\n",
    " \n",
    "    Ben bir Aytendir tutturmuşum  oh ne iyi\n",
    "    Aytenli içkiler içip sarhoş oluyorum, ne güzel! \n",
    "    Hoşuma gitmiyorsa rengi denizlerin, \n",
    "    Biraz Ayten sürüyorum, güzelleşiyor. \n",
    "    Şarkılar söylüyorum, \n",
    "    Şiirler yazıyorum Ayten üstüne. \n",
    "    Saatim her zaman Aytene beş var \n",
    "    Ya da Ayteni beş geçiyor. \n",
    "    Ne yana baksam gördüğüm o, \n",
    "    Gözümü yumsam aklımdan Ayten geçiyor.\n",
    "    \"\"\")\n",
    "\n",
    "from pprint import pprint\n",
    "\n",
    "with open(\"yeni_dosya.txt\", \"r\", encoding=\"utf-8\") as file:\n",
    "    content = file.readlines()\n",
    "    pprint(content)\n"
   ]
  },
  {
   "cell_type": "code",
   "execution_count": 28,
   "metadata": {},
   "outputs": [
    {
     "name": "stdout",
     "output_type": "stream",
     "text": [
      "['\\n',\n",
      " '    Milyon Kere Ayten\\n',\n",
      " ' \\n',\n",
      " '    Ben bir Aytendir tutturmuşum  oh ne iyi\\n',\n",
      " '    Aytenli içkiler içip sarhoş oluyorum, ne güzel! \\n',\n",
      " '    Hoşuma gitmiyorsa rengi denizlerin, \\n',\n",
      " '    Biraz Ayten sürüyorum, güzelleşiyor. \\n',\n",
      " '    Araya metin ekle\\n',\n",
      " '    Şarkılar söylüyorum, \\n',\n",
      " '    Şiirler yazıyorum Ayten üstüne. \\n',\n",
      " '    Saatim her zaman Aytene beş var \\n',\n",
      " '    Ya da Ayteni beş geçiyor. \\n',\n",
      " '    Ne yana baksam gördüğüm o, \\n',\n",
      " '    Gözümü yumsam aklımdan Ayten geçiyor.\\n',\n",
      " '    ']\n"
     ]
    }
   ],
   "source": [
    "from pprint import pprint\n",
    "\n",
    "# len(content)\n",
    "content.insert(7, \"    Araya metin ekle\\n\")\n",
    "pprint(content)\n",
    "\n",
    "\n"
   ]
  },
  {
   "cell_type": "code",
   "execution_count": 29,
   "metadata": {},
   "outputs": [
    {
     "name": "stdout",
     "output_type": "stream",
     "text": [
      "\n",
      "    Milyon Kere Ayten\n",
      " \n",
      "    Ben bir Aytendir tutturmuşum  oh ne iyi\n",
      "    Aytenli içkiler içip sarhoş oluyorum, ne güzel! \n",
      "    Hoşuma gitmiyorsa rengi denizlerin, \n",
      "    Biraz Ayten sürüyorum, güzelleşiyor. \n",
      "    Araya metin ekle\n",
      "    Şarkılar söylüyorum, \n",
      "    Şiirler yazıyorum Ayten üstüne. \n",
      "    Saatim her zaman Aytene beş var \n",
      "    Ya da Ayteni beş geçiyor. \n",
      "    Ne yana baksam gördüğüm o, \n",
      "    Gözümü yumsam aklımdan Ayten geçiyor.\n",
      "    \n"
     ]
    }
   ],
   "source": [
    "with open(\"yeni_dosya.txt\", \"r+\", encoding=\"utf-8\") as file:\n",
    "    file.writelines(content)\n",
    "\n",
    "with open(\"yeni_dosya.txt\", \"r\", encoding=\"utf-8\") as file:\n",
    "    result = file.read()\n",
    "    print(result)"
   ]
  },
  {
   "cell_type": "code",
   "execution_count": 31,
   "metadata": {},
   "outputs": [
    {
     "name": "stdout",
     "output_type": "stream",
     "text": [
      "<class 'int'>\n"
     ]
    }
   ],
   "source": [
    "x = 5\n",
    "print(type(x))"
   ]
  },
  {
   "cell_type": "code",
   "execution_count": null,
   "metadata": {},
   "outputs": [],
   "source": [
    "emp1 = {\"ad\": \"Osman\", \"soyad\": \"Kaya\", \"salary\": 20000, \"id\": 2}\n",
    "emp1 = {\"ad\": \"Osman\", \"soyad\": \"Kaya\", \"salary\": 20000, \"id\": 2}"
   ]
  }
 ],
 "metadata": {
  "kernelspec": {
   "display_name": "Python 3",
   "language": "python",
   "name": "python3"
  },
  "language_info": {
   "codemirror_mode": {
    "name": "ipython",
    "version": 3
   },
   "file_extension": ".py",
   "mimetype": "text/x-python",
   "name": "python",
   "nbconvert_exporter": "python",
   "pygments_lexer": "ipython3",
   "version": "3.11.2"
  },
  "orig_nbformat": 4
 },
 "nbformat": 4,
 "nbformat_minor": 2
}
