{
 "cells": [
  {
   "attachments": {},
   "cell_type": "markdown",
   "metadata": {},
   "source": [
    "### Print"
   ]
  },
  {
   "cell_type": "code",
   "execution_count": 128,
   "metadata": {},
   "outputs": [
    {
     "name": "stdout",
     "output_type": "stream",
     "text": [
      "Help on built-in function print in module builtins:\n",
      "\n",
      "print(*args, sep=' ', end='\\n', file=None, flush=False)\n",
      "    Prints the values to a stream, or to sys.stdout by default.\n",
      "    \n",
      "    sep\n",
      "      string inserted between values, default a space.\n",
      "    end\n",
      "      string appended after the last value, default a newline.\n",
      "    file\n",
      "      a file-like object (stream); defaults to the current sys.stdout.\n",
      "    flush\n",
      "      whether to forcibly flush the stream.\n",
      "\n"
     ]
    }
   ],
   "source": [
    "help(print)"
   ]
  },
  {
   "cell_type": "code",
   "execution_count": 139,
   "metadata": {},
   "outputs": [
    {
     "name": "stdout",
     "output_type": "stream",
     "text": [
      "Ahmet Mehmet 254\n",
      "Ali Veli\n"
     ]
    }
   ],
   "source": [
    "print(\"Ahmet\",\"Mehmet\",254)\n",
    "print(\"Ali\",\"Veli\")"
   ]
  },
  {
   "cell_type": "code",
   "execution_count": 140,
   "metadata": {},
   "outputs": [
    {
     "name": "stdout",
     "output_type": "stream",
     "text": [
      "Ahmet, Mehmet, 123\n"
     ]
    }
   ],
   "source": [
    "# sep: sep parametresi, print() fonksiyonuna geçirilen birden çok değer arasındaki ayırıcıyı belirtmek için kullanılır. \n",
    "# Varsayılan olarak, ayırıcı bir boşluk karakteridir.\n",
    "print(\"Ahmet\", \"Mehmet\", 123, sep=', ')"
   ]
  },
  {
   "cell_type": "code",
   "execution_count": 141,
   "metadata": {},
   "outputs": [
    {
     "name": "stdout",
     "output_type": "stream",
     "text": [
      "Ahmet Mehmet 123\tAli     Veli\n",
      "Ali     Veli\n",
      "\n",
      "Ali     Veli\n",
      "\n",
      "\n"
     ]
    }
   ],
   "source": [
    "# end: print() fonksiyonunda kullanılan end parametresi,\n",
    "#  çıktının sonunda yazdırılacak karakter(ler)i belirtir. \n",
    "print(\"Ahmet\",\"Mehmet\",123,end='\\t') # yazidan sonra bir sekme karakteri eklenir\n",
    "print(\"Ali\",\"Veli\",sep='     ',end='\\n') #\n",
    "print(\"Ali\", \"Veli\", sep='     ', end='\\n\\n')\n",
    "print(\"Ali\", \"Veli\", sep='     ', end='\\n\\n\\n')"
   ]
  },
  {
   "attachments": {},
   "cell_type": "markdown",
   "metadata": {},
   "source": [
    "### Python Variables\n",
    "- Creating Python Variables\n",
    "- Printing Python Variables\n",
    "- Delete a Variable\n",
    "- Multiple Assignment\n",
    "- Naming of variables"
   ]
  },
  {
   "cell_type": "code",
   "execution_count": null,
   "metadata": {},
   "outputs": [],
   "source": [
    "counter = 100          # Creates an integer variable\n",
    "miles   = 1000.0       # Creates a floating point variable\n",
    "name    = \"Zara Ali\"   # Creates a string variable\n",
    "\n",
    "print (counter)\n",
    "print (miles)\n",
    "print (name)\n",
    "\n",
    "del counter\n",
    "print (counter)\n"
   ]
  },
  {
   "cell_type": "code",
   "execution_count": null,
   "metadata": {},
   "outputs": [],
   "source": [
    "a = b = c = 100\n",
    "\n",
    "print (a)\n",
    "print (b)\n",
    "print (c)"
   ]
  },
  {
   "cell_type": "code",
   "execution_count": null,
   "metadata": {},
   "outputs": [],
   "source": [
    "a,b,c = 1,2,\"Zara Ali\"\n",
    "\n",
    "print (a)\n",
    "print (b)\n",
    "print (c)"
   ]
  },
  {
   "cell_type": "code",
   "execution_count": null,
   "metadata": {},
   "outputs": [],
   "source": [
    "counter = 100          # Creates an integer variable\n",
    "miles   = 1000.0       # Creates a floating point variable\n",
    "name    = \"Zara Ali\"   # Creates a string variable"
   ]
  },
  {
   "attachments": {},
   "cell_type": "markdown",
   "metadata": {},
   "source": [
    "### Types of variable\n",
    "- Sayı : integer,float,compelx\n",
    "- Metin: string\n",
    "- Dize: List, Tuple, Range\n",
    "- Haritalama: Dict\n",
    "- Setler \n",
    "- Mantıksal: bool\n",
    "- Boş: None "
   ]
  },
  {
   "attachments": {},
   "cell_type": "markdown",
   "metadata": {},
   "source": [
    "### Numbers:"
   ]
  },
  {
   "cell_type": "code",
   "execution_count": 29,
   "metadata": {},
   "outputs": [
    {
     "name": "stdout",
     "output_type": "stream",
     "text": [
      "<class 'int'>\n",
      "<class 'float'>\n",
      "<class 'complex'>\n",
      "<class 'float'>\n"
     ]
    }
   ],
   "source": [
    "# Int bir tam sayı değeridir. Pozitif veya negatif bir sayı olabilir. \n",
    "# Float, pozitif ya da negatif kesirli ve ondalıklı ifadeler barındırabilir. x = 35e3 y = 12E4 z = -87.7e100\n",
    "# Bilimsel bir ifade olarak e harfi kullanılabilir. Bu şekilde 10'un üsleri yazılabilir.\n",
    "a=-10\n",
    "b=20.5\n",
    "c=4+5j\n",
    "d=4e5\n",
    "print (type(a))\n",
    "print (type(b))\n",
    "print (type(c))\n",
    "print (type(d))"
   ]
  },
  {
   "cell_type": "code",
   "execution_count": 30,
   "metadata": {},
   "outputs": [],
   "source": [
    "### Operators on numbers:\n",
    "# Addition : +\n",
    "# Subttaction: -\n",
    "# Multiplication: *\n",
    "# Exponent : **\n",
    "# Division: /\n",
    "# Floor Division:  //\n",
    "# Modulus % "
   ]
  },
  {
   "cell_type": "code",
   "execution_count": 66,
   "metadata": {},
   "outputs": [
    {
     "name": "stdout",
     "output_type": "stream",
     "text": [
      "14\n",
      "14\n",
      "14\n",
      "14\n",
      "15\n",
      "15\n",
      "<class 'int'>\n"
     ]
    }
   ],
   "source": [
    "\n",
    "print(round(14))\n",
    "print(round(14.1))           # Python round() down\n",
    "print(round(14.4))           # Python round() down\n",
    "print(round(14.5))           # Python round() down\n",
    "print(round(14.50001))       # Python round() up\n",
    "print(round(14.6))           # Python round() up\n",
    "print(type(round(14.8)))"
   ]
  },
  {
   "cell_type": "code",
   "execution_count": 65,
   "metadata": {},
   "outputs": [
    {
     "name": "stdout",
     "output_type": "stream",
     "text": [
      "<class 'int'>\n"
     ]
    }
   ],
   "source": [
    "import math\n",
    "print(type(math.ceil(11.2)))"
   ]
  },
  {
   "cell_type": "code",
   "execution_count": 41,
   "metadata": {},
   "outputs": [
    {
     "name": "stdout",
     "output_type": "stream",
     "text": [
      "3.9790572078963917\n",
      "3.98\n",
      "<class 'float'>\n"
     ]
    }
   ],
   "source": [
    "# \"Kübik kök bulma\"\n",
    "x= 63**(1/3)\n",
    "print(x)\n",
    "\n",
    "y=round(x,2)\n",
    "print(y)\n",
    "print(type(y))"
   ]
  },
  {
   "cell_type": "code",
   "execution_count": 47,
   "metadata": {},
   "outputs": [
    {
     "name": "stdout",
     "output_type": "stream",
     "text": [
      "63.0\n"
     ]
    }
   ],
   "source": [
    "print(round(3.98**3,1))"
   ]
  },
  {
   "cell_type": "code",
   "execution_count": 57,
   "metadata": {},
   "outputs": [
    {
     "name": "stdout",
     "output_type": "stream",
     "text": [
      "3\n",
      "4\n"
     ]
    }
   ],
   "source": [
    "import math\n",
    "# \"ceil\" (tavan): Bir sayıyı bir üst tam sayıya yuvarlamak anlamına gelir.\n",
    "# Örneğin, 3.6 sayısını tavana yuvarladığınızda sonuç 4 olur.\n",
    "# \"floor\" (taban): Bir sayıyı bir alt tam sayıya yuvarlamak anlamına gelir.\n",
    "#  Örneğin, 3.6 sayısını tabana yuvarladığınızda sonuç 3 olur.\n",
    "num = 3.6\n",
    "rounded_num_down = math.floor(num) # rounds down to nearest integer\n",
    "print(rounded_num_down) # output: 3\n",
    "\n",
    "rounded_num_up = math.ceil(num) # rounds up to nearest integer\n",
    "print(rounded_num_up) # output: 4\n",
    "\n"
   ]
  },
  {
   "cell_type": "code",
   "execution_count": 61,
   "metadata": {},
   "outputs": [
    {
     "name": "stdout",
     "output_type": "stream",
     "text": [
      "2\n"
     ]
    }
   ],
   "source": [
    "x= 14//5\n",
    "print(x)"
   ]
  },
  {
   "cell_type": "code",
   "execution_count": 56,
   "metadata": {},
   "outputs": [
    {
     "name": "stdout",
     "output_type": "stream",
     "text": [
      "-4\n"
     ]
    }
   ],
   "source": [
    "x=math.floor(float(input()))\n",
    "print(x)"
   ]
  },
  {
   "cell_type": "code",
   "execution_count": null,
   "metadata": {},
   "outputs": [],
   "source": [
    "# Dikdörtgenin alanını hesaplama:\n",
    "\"\"\"length = 5\n",
    "width = 3\n",
    "area = length * width\n",
    "print(\"The area of the rectangle is:\", area)\"\"\"\n",
    "\n",
    "uzunluk = 5\n",
    "genislik = 3\n",
    "alan = uzunluk * genislik\n",
    "print(\"Dikdörtgenin alanı:\", alan)\n"
   ]
  },
  {
   "cell_type": "code",
   "execution_count": null,
   "metadata": {},
   "outputs": [],
   "source": [
    "# Celsius'u Fahrenheit'a dönüştürme:\n",
    "\"\"\" \n",
    "1. enter the value of C ( Celsius)\n",
    "2. C*9\n",
    "3. divide the vlaue of step 2 by 5\n",
    "4. Add 32 to the result of 3\n",
    "5. print the result\"\"\"\n",
    "celsius = 28\n",
    "fahrenheit = (celsius * 9/5) + 32\n",
    "print(\"Sıcaklık Fahrenheit cinsinden:\", fahrenheit)\n"
   ]
  },
  {
   "cell_type": "code",
   "execution_count": null,
   "metadata": {},
   "outputs": [],
   "source": [
    "C = int(input(\"Enter the value of Celsius:\"))\n",
    "F= ((C*9)/5+32)\n",
    "print(F)"
   ]
  },
  {
   "cell_type": "code",
   "execution_count": 22,
   "metadata": {},
   "outputs": [
    {
     "name": "stdout",
     "output_type": "stream",
     "text": [
      "Ortalama: 7.0\n"
     ]
    }
   ],
   "source": [
    "# Üç sayının ortalamasını hesaplama:\n",
    "sayi1 = 7\n",
    "sayi2 = 5\n",
    "sayi3 = 9\n",
    "ortalama = (sayi1 + sayi2 + sayi3) / 3\n",
    "print(\"Ortalama:\", ortalama)\n"
   ]
  },
  {
   "cell_type": "code",
   "execution_count": 62,
   "metadata": {},
   "outputs": [
    {
     "name": "stdout",
     "output_type": "stream",
     "text": [
      "True\n",
      "False\n"
     ]
    }
   ],
   "source": [
    "# Boolean variables\n",
    "is_true = True\n",
    "is_false = False\n",
    "\n",
    "print(is_true)    # Output: True\n",
    "print(is_false)   # Output: False\n"
   ]
  },
  {
   "cell_type": "code",
   "execution_count": 63,
   "metadata": {},
   "outputs": [
    {
     "name": "stdout",
     "output_type": "stream",
     "text": [
      "False\n",
      "False\n"
     ]
    }
   ],
   "source": [
    "# Comparison operators\n",
    "x = 5\n",
    "y = 10\n",
    "\n",
    "is_greater = x > y\n",
    "is_equal = x == y\n",
    "\n",
    "print(is_greater)    # Output: False\n",
    "print(is_equal)      # Output: False\n"
   ]
  }
 ],
 "metadata": {
  "kernelspec": {
   "display_name": "Python 3",
   "language": "python",
   "name": "python3"
  },
  "language_info": {
   "codemirror_mode": {
    "name": "ipython",
    "version": 3
   },
   "file_extension": ".py",
   "mimetype": "text/x-python",
   "name": "python",
   "nbconvert_exporter": "python",
   "pygments_lexer": "ipython3",
   "version": "3.11.3"
  },
  "orig_nbformat": 4
 },
 "nbformat": 4,
 "nbformat_minor": 2
}
